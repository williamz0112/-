{
 "cells": [
  {
   "cell_type": "markdown",
   "metadata": {
    "slideshow": {
     "slide_type": "slide"
    }
   },
   "source": [
    "# 20春_Web数据挖掘\n",
    "# 项目0 by 廖汉腾, 许智超"
   ]
  },
  {
   "cell_type": "markdown",
   "metadata": {
    "slideshow": {
     "slide_type": "fragment"
    }
   },
   "source": [
    "### 抄用最人性化的模块\n",
    "* 来源 [最新的爬虫工具requests-html](https://www.cnblogs.com/fnng/p/8948015.html)\n",
    "* 文档 [requests-html](https://requests-html.kennethreitz.org/)\n",
    "\n",
    "####  项目0.A cnblogs 新闻"
   ]
  },
  {
   "cell_type": "code",
   "execution_count": 24,
   "metadata": {
    "slideshow": {
     "slide_type": "subslide"
    }
   },
   "outputs": [
    {
     "name": "stdout",
     "output_type": "stream",
     "text": [
      "标题: 代码变油画，精细到毛发，让美术设计也惊叹\n",
      "链接: {'https://news.cnblogs.com/n/657838/'}\n",
      "标题: 为什么我从来不教人赚钱\n",
      "链接: {'https://news.cnblogs.com/n/657820/'}\n",
      "标题: 手机发布会为什么越来越无聊了？\n",
      "链接: {'https://news.cnblogs.com/n/657822/'}\n",
      "标题: 让服务器突破性能极限 阿里云神龙论文入选计算机顶会ASPLOS\n",
      "链接: {'https://news.cnblogs.com/n/657817/'}\n",
      "标题: GitHub 收购 npm\n",
      "链接: {'https://news.cnblogs.com/n/657758/'}\n",
      "标题: 三个网红的十年：愤然一跃，坠入大海\n",
      "链接: {'https://news.cnblogs.com/n/657715/'}\n",
      "标题: 马云的口罩之交\n",
      "链接: {'https://news.cnblogs.com/n/657658/'}\n",
      "标题: 疫情中的快递、外卖员：我们在工作 就代表城市在运转\n",
      "链接: {'https://news.cnblogs.com/n/657645/'}\n",
      "标题: 比尔盖茨退休：这位世界首富的峥嵘65年\n",
      "链接: {'https://news.cnblogs.com/n/657621/'}\n",
      "标题: 上海大学副教授“变身”萝莉，自制软件二次元上网课\n",
      "链接: {'https://news.cnblogs.com/n/657564/'}\n",
      "标题: 微软放弃继续开发 Visual Basic\n",
      "链接: {'https://news.cnblogs.com/n/657614/'}\n",
      "标题: Soul合伙人被抓，恶意竞争背后是创业者初心尽失\n",
      "链接: {'https://news.cnblogs.com/n/657606/'}\n",
      "标题: “3·15”曝光高炮新闻的幕后推手\n",
      "链接: {'https://news.cnblogs.com/n/657565/'}\n",
      "标题: 张朝阳与马云的颠倒人生\n",
      "链接: {'https://news.cnblogs.com/n/657547/'}\n",
      "标题: “ 不要放过那个 B 站 ”\n",
      "链接: {'https://news.cnblogs.com/n/657546/'}\n",
      "标题: Nature：AI增强版“滴血测癌”，准确率高达86%！\n",
      "链接: {'https://news.cnblogs.com/n/657480/'}\n",
      "标题: 白天添瓦，晚上拆墙，这群工程师把苹果的秘密扒个底朝天\n",
      "链接: {'https://news.cnblogs.com/n/657488/'}\n",
      "标题: 孙正义欲捐 100 万份病毒检测试剂，两小时被日本网友批到放弃\n",
      "链接: {'https://news.cnblogs.com/n/657493/'}\n"
     ]
    }
   ],
   "source": [
    "# 00: 使用...\n",
    "from requests_html import HTMLSession\n",
    "\n",
    "# 01: 使用session ????\n",
    "session = HTMLSession()\n",
    "r = session.get(\"https://news.cnblogs.com/n/recommend\")\n",
    "\n",
    "# 02: 使用.find ???? (CSS selector; r.html.find)\n",
    "# 通过CSS找到新闻标签\n",
    "news = r.html.find('h2.news_entry > a')\n",
    "\n",
    "# 03: 结果輸出\n",
    "for new in news:\n",
    "    print(\"标题:\", new.text)  # 获得新闻标题\n",
    "    print(\"链接:\", new.absolute_links)  # 获得新闻链接"
   ]
  },
  {
   "cell_type": "raw",
   "metadata": {
    "slideshow": {
     "slide_type": "slide"
    }
   },
   "source": [
    "### 不是算Python的内容：HTML 之 xpath 与 selector\n",
    "\n",
    "接下来需要选择器selector抽取数据img，借用HTML的\"结构\"性(chrome要从页面选到结构，你懂的)，有两种可能，必记下来\n",
    "* xpath \n",
    "* CSS selector\n",
    "\n",
    "试第一个和另一个，看看有什麽规律 (侦探活)\n",
    "Chrome Console下使用Javascript\n",
    "* xpath: \n",
    "```$x(\"放这\")```\n",
    "\n",
    "* CSS: \n",
    "``` $(\"放这\") ```\n",
    "\n",
    "-----\n",
    "\n",
    "####  项目0.B liepin 工作"
   ]
  },
  {
   "cell_type": "code",
   "execution_count": 35,
   "metadata": {
    "slideshow": {
     "slide_type": "subslide"
    }
   },
   "outputs": [
    {
     "name": "stdout",
     "output_type": "stream",
     "text": [
      "工作 主持人/播音员/DJ\n",
      "链接 {'https://www.liepin.com/job/1923906925.shtml'}\n"
     ]
    }
   ],
   "source": [
    "from requests_html import HTMLSession\n",
    "\n",
    "session = HTMLSession()\n",
    "\n",
    "r = session.get(\"https://www.liepin.com/zhaopin/?key=主持人 中山\")\n",
    "\n",
    "# 通过xpath找到工作标签\n",
    "news = r.html.xpath('//div[@class=\"job-info\"]/h3/a')\n",
    "#             以下所有^^   [@attribute]條件  \n",
    "\n",
    "for new in news:\n",
    "    print(\"工作\",new.text)  # 获得工作标题\n",
    "    print(\"链接\",new.absolute_links)  # 获得工作链接"
   ]
  },
  {
   "cell_type": "markdown",
   "metadata": {
    "slideshow": {
     "slide_type": "subslide"
    }
   },
   "source": [
    "####  展示图\n",
    "* Jupyter 可用的魔法之一 IPython 展示模块, HTML转码"
   ]
  },
  {
   "cell_type": "code",
   "execution_count": 7,
   "metadata": {
    "slideshow": {
     "slide_type": "fragment"
    }
   },
   "outputs": [
    {
     "data": {
      "text/html": [
       "<img src=\"https://httpstatusdogs.com/img/202.jpg\" alt=\"\">"
      ],
      "text/plain": [
       "<IPython.core.display.HTML object>"
      ]
     },
     "metadata": {},
     "output_type": "display_data"
    }
   ],
   "source": [
    "from IPython.core.display import display, HTML\n",
    "display(HTML('<img src=\"https://httpstatusdogs.com/img/202.jpg\" alt=\"\">'))"
   ]
  },
  {
   "cell_type": "markdown",
   "metadata": {
    "slideshow": {
     "slide_type": "slide"
    }
   },
   "source": [
    "####  展示图\n",
    "* Jupyter 可用的魔法之一 IPython 展示模块, HTML转码"
   ]
  },
  {
   "cell_type": "code",
   "execution_count": 8,
   "metadata": {
    "slideshow": {
     "slide_type": "fragment"
    }
   },
   "outputs": [
    {
     "data": {
      "text/markdown": [
       "![](https://httpstatusdogs.com/img/418.jpg)"
      ],
      "text/plain": [
       "<IPython.core.display.Markdown object>"
      ]
     },
     "metadata": {},
     "output_type": "display_data"
    }
   ],
   "source": [
    "from IPython.core.display import display, Markdown\n",
    "display(Markdown('![](https://httpstatusdogs.com/img/418.jpg)'))"
   ]
  },
  {
   "cell_type": "markdown",
   "metadata": {
    "slideshow": {
     "slide_type": "slide"
    }
   },
   "source": [
    "### 抓抓图片?\n",
    "[图片新闻_Bing](http://www.gov.cn/xinwen/tupian/index.htm)\n",
    "\n",
    "####  项目0.C 图片新闻"
   ]
  },
  {
   "cell_type": "code",
   "execution_count": 18,
   "metadata": {
    "slideshow": {
     "slide_type": "fragment"
    }
   },
   "outputs": [
    {
     "name": "stdout",
     "output_type": "stream",
     "text": [
      "data:image/png;base64,iVBORw0KGgoAAAANSUhEUgAAAAEAAAABCAQAAAC1HAwCAAAAC0lEQVR42mNgYAAAAAMAASsJTYQAAAAASUVORK5CYII=\n"
     ]
    },
    {
     "data": {
      "text/markdown": [
       "![](data:image/png;base64,iVBORw0KGgoAAAANSUhEUgAAAAEAAAABCAQAAAC1HAwCAAAAC0lEQVR42mNgYAAAAAMAASsJTYQAAAAASUVORK5CYII=)"
      ],
      "text/plain": [
       "<IPython.core.display.Markdown object>"
      ]
     },
     "metadata": {},
     "output_type": "display_data"
    },
    {
     "name": "stdout",
     "output_type": "stream",
     "text": [
      "/rs/5h/1qP/ic/77c87e7d/317096f3.png\n"
     ]
    },
    {
     "data": {
      "text/markdown": [
       "![](/rs/5h/1qP/ic/77c87e7d/317096f3.png)"
      ],
      "text/plain": [
       "<IPython.core.display.Markdown object>"
      ]
     },
     "metadata": {},
     "output_type": "display_data"
    },
    {
     "name": "stdout",
     "output_type": "stream",
     "text": [
      "data:image/svg+xml;base64,PHN2ZyB3aWR0aD0iMTZweCIgaGVpZ2h0PSIxNHB4IiBmb2N1c2FibGU9ImZhbHNlIiB2aWV3Qm94PSIwIDAgMTYgMTQiIHhtbG5zPSJodHRwOi8vd3d3LnczLm9yZy8yMDAwL3N2ZyIgeG1sbnM6eGxpbms9Imh0dHA6Ly93d3cudzMub3JnLzE5OTkveGxpbmsiPjxnIHRyYW5zZm9ybT0idHJhbnNsYXRlKC0xMDg1LjAwMDAwMCwgLTIxNTIuMDAwMDAwKSIgZmlsbD0iIzY2NjY2NiI+PHBhdGggZD0iTTEwODUsMjE1MiBMMTA4NSwyMTUzLjcxMDY3IEwxMDkxLDIxNTkuNzEwNjcgTDEwOTEsMjE2NiBMMTA5NSwyMTY2IEwxMDk1LDIxNTkuNzEwNjcgTDExMDEsMjE1My43MTA2NyBMMTEwMSwyMTUyIEwxMDg1LDIxNTIgWiBNMTA5MiwyMTU5LjI4OTMzIEwxMDg2LDIxNTMuMjg5MzMgTDEwODYsMjE1My4wMDEzMyBMMTEwMCwyMTUzLjAwMTMzIEwxMTAwLDIxNTMuMjg5MzMgTDEwOTQsMjE1OS4yODkzMyBMMTA5NCwyMTY1LjAwMTMzIEwxMDkyLDIxNjUuMDAxMzMgTDEwOTIsMjE1OS4yODkzMyBaIi8+PC9nPjwvc3ZnPg==\n"
     ]
    },
    {
     "data": {
      "text/markdown": [
       "![](data:image/svg+xml;base64,PHN2ZyB3aWR0aD0iMTZweCIgaGVpZ2h0PSIxNHB4IiBmb2N1c2FibGU9ImZhbHNlIiB2aWV3Qm94PSIwIDAgMTYgMTQiIHhtbG5zPSJodHRwOi8vd3d3LnczLm9yZy8yMDAwL3N2ZyIgeG1sbnM6eGxpbms9Imh0dHA6Ly93d3cudzMub3JnLzE5OTkveGxpbmsiPjxnIHRyYW5zZm9ybT0idHJhbnNsYXRlKC0xMDg1LjAwMDAwMCwgLTIxNTIuMDAwMDAwKSIgZmlsbD0iIzY2NjY2NiI+PHBhdGggZD0iTTEwODUsMjE1MiBMMTA4NSwyMTUzLjcxMDY3IEwxMDkxLDIxNTkuNzEwNjcgTDEwOTEsMjE2NiBMMTA5NSwyMTY2IEwxMDk1LDIxNTkuNzEwNjcgTDExMDEsMjE1My43MTA2NyBMMTEwMSwyMTUyIEwxMDg1LDIxNTIgWiBNMTA5MiwyMTU5LjI4OTMzIEwxMDg2LDIxNTMuMjg5MzMgTDEwODYsMjE1My4wMDEzMyBMMTEwMCwyMTUzLjAwMTMzIEwxMTAwLDIxNTMuMjg5MzMgTDEwOTQsMjE1OS4yODkzMyBMMTA5NCwyMTY1LjAwMTMzIEwxMDkyLDIxNjUuMDAxMzMgTDEwOTIsMjE1OS4yODkzMyBaIi8+PC9nPjwvc3ZnPg==)"
      ],
      "text/plain": [
       "<IPython.core.display.Markdown object>"
      ]
     },
     "metadata": {},
     "output_type": "display_data"
    },
    {
     "name": "stdout",
     "output_type": "stream",
     "text": [
      "data:image/svg+xml;base64,PHN2ZyBmb2N1c2FibGU9ImZhbHNlIiB4bWxucz0iaHR0cDovL3d3dy53My5vcmcvMjAwMC9zdmciIHZpZXdCb3g9IjAgMCAxNiAxNiIgZW5hYmxlLWJhY2tncm91bmQ9Im5ldyAwIDAgMTYgMTYiPjxwYXRoIGZpbGw9IiM2NjYiIGQ9Ik0wIDFoMTZ2MS43MTFsLTYgNnY2LjI4OWgtNHYtNi4yODlsLTYtNnYtMS43MTF6Ii8+PC9zdmc+\n"
     ]
    },
    {
     "data": {
      "text/markdown": [
       "![](data:image/svg+xml;base64,PHN2ZyBmb2N1c2FibGU9ImZhbHNlIiB4bWxucz0iaHR0cDovL3d3dy53My5vcmcvMjAwMC9zdmciIHZpZXdCb3g9IjAgMCAxNiAxNiIgZW5hYmxlLWJhY2tncm91bmQ9Im5ldyAwIDAgMTYgMTYiPjxwYXRoIGZpbGw9IiM2NjYiIGQ9Ik0wIDFoMTZ2MS43MTFsLTYgNnY2LjI4OWgtNHYtNi4yODlsLTYtNnYtMS43MTF6Ii8+PC9zdmc+)"
      ],
      "text/plain": [
       "<IPython.core.display.Markdown object>"
      ]
     },
     "metadata": {},
     "output_type": "display_data"
    },
    {
     "name": "stdout",
     "output_type": "stream",
     "text": [
      "https://tse1-mm.cn.bing.net/th/id/OIP.zZCxtPkte_HFG8MQsngZkgHaJd?w=191&h=244&c=7&o=5&pid=1.7\n"
     ]
    },
    {
     "data": {
      "text/markdown": [
       "![](https://tse1-mm.cn.bing.net/th/id/OIP.zZCxtPkte_HFG8MQsngZkgHaJd?w=191&h=244&c=7&o=5&pid=1.7)"
      ],
      "text/plain": [
       "<IPython.core.display.Markdown object>"
      ]
     },
     "metadata": {},
     "output_type": "display_data"
    },
    {
     "name": "stdout",
     "output_type": "stream",
     "text": [
      "data:image/gif;base64,R0lGODlhAQABAIAAAAAAAP///yH5BAEAAAEALAAAAAABAAEAAAIBTAA7\n"
     ]
    },
    {
     "data": {
      "text/markdown": [
       "![](data:image/gif;base64,R0lGODlhAQABAIAAAAAAAP///yH5BAEAAAEALAAAAAABAAEAAAIBTAA7)"
      ],
      "text/plain": [
       "<IPython.core.display.Markdown object>"
      ]
     },
     "metadata": {},
     "output_type": "display_data"
    },
    {
     "name": "stdout",
     "output_type": "stream",
     "text": [
      "data:image/gif;base64,R0lGODlhAQABAIAAAAAAAP///yH5BAEAAAEALAAAAAABAAEAAAIBTAA7\n"
     ]
    },
    {
     "data": {
      "text/markdown": [
       "![](data:image/gif;base64,R0lGODlhAQABAIAAAAAAAP///yH5BAEAAAEALAAAAAABAAEAAAIBTAA7)"
      ],
      "text/plain": [
       "<IPython.core.display.Markdown object>"
      ]
     },
     "metadata": {},
     "output_type": "display_data"
    },
    {
     "name": "stdout",
     "output_type": "stream",
     "text": [
      "https://tse2-mm.cn.bing.net/th/id/OIP.QKdgES9L2jBAY4slGoXRmAAAAA?w=191&h=255&c=7&o=5&pid=1.7\n"
     ]
    },
    {
     "data": {
      "text/markdown": [
       "![](https://tse2-mm.cn.bing.net/th/id/OIP.QKdgES9L2jBAY4slGoXRmAAAAA?w=191&h=255&c=7&o=5&pid=1.7)"
      ],
      "text/plain": [
       "<IPython.core.display.Markdown object>"
      ]
     },
     "metadata": {},
     "output_type": "display_data"
    },
    {
     "name": "stdout",
     "output_type": "stream",
     "text": [
      "data:image/gif;base64,R0lGODlhAQABAIAAAAAAAP///yH5BAEAAAEALAAAAAABAAEAAAIBTAA7\n"
     ]
    },
    {
     "data": {
      "text/markdown": [
       "![](data:image/gif;base64,R0lGODlhAQABAIAAAAAAAP///yH5BAEAAAEALAAAAAABAAEAAAIBTAA7)"
      ],
      "text/plain": [
       "<IPython.core.display.Markdown object>"
      ]
     },
     "metadata": {},
     "output_type": "display_data"
    },
    {
     "name": "stdout",
     "output_type": "stream",
     "text": [
      "data:image/gif;base64,R0lGODlhAQABAIAAAAAAAP///yH5BAEAAAEALAAAAAABAAEAAAIBTAA7\n"
     ]
    },
    {
     "data": {
      "text/markdown": [
       "![](data:image/gif;base64,R0lGODlhAQABAIAAAAAAAP///yH5BAEAAAEALAAAAAABAAEAAAIBTAA7)"
      ],
      "text/plain": [
       "<IPython.core.display.Markdown object>"
      ]
     },
     "metadata": {},
     "output_type": "display_data"
    },
    {
     "name": "stdout",
     "output_type": "stream",
     "text": [
      "https://tse4-mm.cn.bing.net/th/id/OIP.hlaVunEHApXjUpCj1UtB7QHaIq?w=191&h=223&c=7&o=5&pid=1.7\n"
     ]
    },
    {
     "data": {
      "text/markdown": [
       "![](https://tse4-mm.cn.bing.net/th/id/OIP.hlaVunEHApXjUpCj1UtB7QHaIq?w=191&h=223&c=7&o=5&pid=1.7)"
      ],
      "text/plain": [
       "<IPython.core.display.Markdown object>"
      ]
     },
     "metadata": {},
     "output_type": "display_data"
    },
    {
     "name": "stdout",
     "output_type": "stream",
     "text": [
      "data:image/gif;base64,R0lGODlhAQABAIAAAAAAAP///yH5BAEAAAEALAAAAAABAAEAAAIBTAA7\n"
     ]
    },
    {
     "data": {
      "text/markdown": [
       "![](data:image/gif;base64,R0lGODlhAQABAIAAAAAAAP///yH5BAEAAAEALAAAAAABAAEAAAIBTAA7)"
      ],
      "text/plain": [
       "<IPython.core.display.Markdown object>"
      ]
     },
     "metadata": {},
     "output_type": "display_data"
    },
    {
     "name": "stdout",
     "output_type": "stream",
     "text": [
      "data:image/gif;base64,R0lGODlhAQABAIAAAAAAAP///yH5BAEAAAEALAAAAAABAAEAAAIBTAA7\n"
     ]
    },
    {
     "data": {
      "text/markdown": [
       "![](data:image/gif;base64,R0lGODlhAQABAIAAAAAAAP///yH5BAEAAAEALAAAAAABAAEAAAIBTAA7)"
      ],
      "text/plain": [
       "<IPython.core.display.Markdown object>"
      ]
     },
     "metadata": {},
     "output_type": "display_data"
    },
    {
     "name": "stdout",
     "output_type": "stream",
     "text": [
      "https://tse4-mm.cn.bing.net/th/id/OIP.EQV8K54McnP_Z29Q0MDSowAAAA?w=174&h=128&c=7&o=5&pid=1.7\n"
     ]
    },
    {
     "data": {
      "text/markdown": [
       "![](https://tse4-mm.cn.bing.net/th/id/OIP.EQV8K54McnP_Z29Q0MDSowAAAA?w=174&h=128&c=7&o=5&pid=1.7)"
      ],
      "text/plain": [
       "<IPython.core.display.Markdown object>"
      ]
     },
     "metadata": {},
     "output_type": "display_data"
    },
    {
     "name": "stdout",
     "output_type": "stream",
     "text": [
      "data:image/gif;base64,R0lGODlhAQABAIAAAAAAAP///yH5BAEAAAEALAAAAAABAAEAAAIBTAA7\n"
     ]
    },
    {
     "data": {
      "text/markdown": [
       "![](data:image/gif;base64,R0lGODlhAQABAIAAAAAAAP///yH5BAEAAAEALAAAAAABAAEAAAIBTAA7)"
      ],
      "text/plain": [
       "<IPython.core.display.Markdown object>"
      ]
     },
     "metadata": {},
     "output_type": "display_data"
    },
    {
     "name": "stdout",
     "output_type": "stream",
     "text": [
      "data:image/gif;base64,R0lGODlhAQABAIAAAAAAAP///yH5BAEAAAEALAAAAAABAAEAAAIBTAA7\n"
     ]
    },
    {
     "data": {
      "text/markdown": [
       "![](data:image/gif;base64,R0lGODlhAQABAIAAAAAAAP///yH5BAEAAAEALAAAAAABAAEAAAIBTAA7)"
      ],
      "text/plain": [
       "<IPython.core.display.Markdown object>"
      ]
     },
     "metadata": {},
     "output_type": "display_data"
    },
    {
     "name": "stdout",
     "output_type": "stream",
     "text": [
      "https://tse1-mm.cn.bing.net/th/id/OIP.7GBM2wQ1wygOGREONUuZdAHaJk?w=191&h=248&c=7&o=5&pid=1.7\n"
     ]
    },
    {
     "data": {
      "text/markdown": [
       "![](https://tse1-mm.cn.bing.net/th/id/OIP.7GBM2wQ1wygOGREONUuZdAHaJk?w=191&h=248&c=7&o=5&pid=1.7)"
      ],
      "text/plain": [
       "<IPython.core.display.Markdown object>"
      ]
     },
     "metadata": {},
     "output_type": "display_data"
    },
    {
     "name": "stdout",
     "output_type": "stream",
     "text": [
      "data:image/gif;base64,R0lGODlhAQABAIAAAAAAAP///yH5BAEAAAEALAAAAAABAAEAAAIBTAA7\n"
     ]
    },
    {
     "data": {
      "text/markdown": [
       "![](data:image/gif;base64,R0lGODlhAQABAIAAAAAAAP///yH5BAEAAAEALAAAAAABAAEAAAIBTAA7)"
      ],
      "text/plain": [
       "<IPython.core.display.Markdown object>"
      ]
     },
     "metadata": {},
     "output_type": "display_data"
    },
    {
     "name": "stdout",
     "output_type": "stream",
     "text": [
      "data:image/gif;base64,R0lGODlhAQABAIAAAAAAAP///yH5BAEAAAEALAAAAAABAAEAAAIBTAA7\n"
     ]
    },
    {
     "data": {
      "text/markdown": [
       "![](data:image/gif;base64,R0lGODlhAQABAIAAAAAAAP///yH5BAEAAAEALAAAAAABAAEAAAIBTAA7)"
      ],
      "text/plain": [
       "<IPython.core.display.Markdown object>"
      ]
     },
     "metadata": {},
     "output_type": "display_data"
    },
    {
     "name": "stdout",
     "output_type": "stream",
     "text": [
      "/sa/simg/Flag_Feedback.png\n"
     ]
    },
    {
     "data": {
      "text/markdown": [
       "![](/sa/simg/Flag_Feedback.png)"
      ],
      "text/plain": [
       "<IPython.core.display.Markdown object>"
      ]
     },
     "metadata": {},
     "output_type": "display_data"
    },
    {
     "name": "stdout",
     "output_type": "stream",
     "text": [
      "/rs/5h/L6/ic/4907366b/da274d75.png\n"
     ]
    },
    {
     "data": {
      "text/markdown": [
       "![](/rs/5h/L6/ic/4907366b/da274d75.png)"
      ],
      "text/plain": [
       "<IPython.core.display.Markdown object>"
      ]
     },
     "metadata": {},
     "output_type": "display_data"
    }
   ],
   "source": [
    "from requests_html import HTMLSession\n",
    "\n",
    "session = HTMLSession()\n",
    "\n",
    "r = session.get(\"https://cn.bing.com/images/search?q=%e5%ad%99%e4%bf%aa&FORM=ISTRTH&id=72E0DC8B392C5F474BA10FBF5196220C84A18618&cat=%E6%98%8E%E6%98%9F&lpversion=\")\n",
    "\n",
    "# 通过xpath找到工作标签\n",
    "items = r.html.xpath('//img/@src')\n",
    "\n",
    "for url in items:\n",
    "    print(url)  # 获得图片src url\n",
    "    display(Markdown('![]({url})'.format(url=url)))  # 展示图片    "
   ]
  },
  {
   "cell_type": "markdown",
   "metadata": {
    "slideshow": {
     "slide_type": "slide"
    }
   },
   "source": [
    "\n",
    "## 总结你学到什麽新东西？\n",
    "* A 认识了xpath以及css selector\n",
    "* B 初尝试抓取liepin上的工作(限定地区)和图片新闻\n",
    "* C \n",
    "\n",
    "\n",
    "## 总结你想会做什麽？\n",
    "* A 了解数据挖掘在未来能够胜任工作或者生活的哪些方面\n",
    "* B 掌握一套较为完善的数据挖掘技能\n",
    "* C\n"
   ]
  },
  {
   "cell_type": "markdown",
   "metadata": {
    "slideshow": {
     "slide_type": "fragment"
    }
   },
   "source": [
    "---\n",
    "结束\n",
    "# 小结 😲"
   ]
  },
  {
   "cell_type": "code",
   "execution_count": null,
   "metadata": {},
   "outputs": [],
   "source": []
  }
 ],
 "metadata": {
  "kernelspec": {
   "display_name": "Python 3",
   "language": "python",
   "name": "python3"
  },
  "language_info": {
   "codemirror_mode": {
    "name": "ipython",
    "version": 3
   },
   "file_extension": ".py",
   "mimetype": "text/x-python",
   "name": "python",
   "nbconvert_exporter": "python",
   "pygments_lexer": "ipython3",
   "version": "3.7.6"
  }
 },
 "nbformat": 4,
 "nbformat_minor": 2
}
